{
 "metadata": {
  "name": "",
  "signature": "sha256:9acf3f716648d3fd33f5c8d1588cf500a4502af0caaedc2fe4fdf1d42b11f8d2"
 },
 "nbformat": 3,
 "nbformat_minor": 0,
 "worksheets": [
  {
   "cells": [
    {
     "cell_type": "code",
     "collapsed": false,
     "input": [
      "from time import strptime\n",
      "\n",
      "movies = open('ml-100k/u.item', 'r')\n",
      "for movie in movies:\n",
      "    splut = movie.split('|')\n",
      "    if splut[2] and 1959 == strptime(splut[2], '%d-%b-%Y').tm_year:\n",
      "        print splut[1]\n",
      "movies.close()"
     ],
     "language": "python",
     "metadata": {},
     "outputs": [
      {
       "output_type": "stream",
       "stream": "stdout",
       "text": [
        "North by Northwest (1959)\n",
        "Some Like It Hot (1959)\n",
        "Ben-Hur (1959)\n",
        "Shaggy Dog, The (1959)\n"
       ]
      }
     ],
     "prompt_number": 1
    },
    {
     "cell_type": "code",
     "collapsed": false,
     "input": [],
     "language": "python",
     "metadata": {},
     "outputs": []
    }
   ],
   "metadata": {}
  }
 ]
}