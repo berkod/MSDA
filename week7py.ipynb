{
 "metadata": {
  "name": "",
  "signature": "sha256:088ad7d0332139dd5135eedd6c1024aa612102d35722a052a9f2fc34187b810d"
 },
 "nbformat": 3,
 "nbformat_minor": 0,
 "worksheets": [
  {
   "cells": [
    {
     "cell_type": "code",
     "collapsed": false,
     "input": [
      "from bs4 import BeautifulSoup\n",
      "import requests"
     ],
     "language": "python",
     "metadata": {},
     "outputs": [],
     "prompt_number": 10
    },
    {
     "cell_type": "code",
     "collapsed": false,
     "input": [
      "url = 'http://www.discogs.com/artist/46767-Billy-Preston'\n",
      "headers = {                                            \n",
      "    'User-Agent': 'Single Page for Class Request',\n",
      "    'From': 'email@example.com'}"
     ],
     "language": "python",
     "metadata": {},
     "outputs": [],
     "prompt_number": 11
    },
    {
     "cell_type": "code",
     "collapsed": false,
     "input": [
      "response = requests.get(url, headers=headers)\n",
      "doc = BeautifulSoup(response.text)"
     ],
     "language": "python",
     "metadata": {},
     "outputs": [],
     "prompt_number": 12
    },
    {
     "cell_type": "code",
     "collapsed": false,
     "input": [
      "print(\"================================\\n\\nLinks to Page One of Billy Preston\\'s Albums\\n\\n\")\n",
      "for x in doc.html.body.table.find_all('td', 'title'):\n",
      "    print(\"http://www.discogs.com%s\" % x.select('> a')[0]['href'])"
     ],
     "language": "python",
     "metadata": {},
     "outputs": [
      {
       "output_type": "stream",
       "stream": "stdout",
       "text": [
        "================================\n",
        "\n",
        "Links to Page One of Billy Preston's Albums\n",
        "\n",
        "\n",
        "http://www.discogs.com/James-Cleveland-With-The-Angelic-Gospel-Choir-Featuring-Billy-Preston-This-Sunday-In-Person/release/4829113\n",
        "http://www.discogs.com/Billy-Preston-16-Yr-Old-Soul/master/675009\n",
        "http://www.discogs.com/Billy-Preston-The-Most-Exciting-Organ-Ever/master/106253\n",
        "http://www.discogs.com/Billy-Preston-Early-Hits-Of-1965/master/478512\n",
        "http://www.discogs.com/Billy-Preston-The-Apple-Of-Their-Eye/release/3094867\n",
        "http://www.discogs.com/Billy-Preston-The-Wildest-Organ-In-Town/master/222077\n",
        "http://www.discogs.com/William-Everett-Preston-Hymns-Speak-From-The-Organ/release/2054305\n",
        "http://www.discogs.com/Billy-Preston-Thats-The-Way-God-Planned-It/master/90460\n",
        "http://www.discogs.com/Billy-Preston-Soul/release/3125540\n",
        "http://www.discogs.com/Billy-Preston-Encouraging-Words/master/272649\n",
        "http://www.discogs.com/Billy-Preston-I-Wrote-A-Simple-Song/master/90462\n",
        "http://www.discogs.com/Billy-Preston-Music-Is-My-Life/master/90464\n",
        "http://www.discogs.com/Billy-Preston-Everybody-Likes-Some-Kind-Of-Music/master/106226\n",
        "http://www.discogs.com/William-E-Preston-Gospel-In-My-Soul/master/624867\n",
        "http://www.discogs.com/Billy-Preston-Live-European-Tour/master/160658\n",
        "http://www.discogs.com/Billy-Preston-The-Kids-Me/master/195116\n",
        "http://www.discogs.com/Billy-Preston-Its-My-Pleasure/master/332672\n",
        "http://www.discogs.com/Billy-Preston-Billy-Preston/master/109504\n",
        "http://www.discogs.com/Billy-Preston-Billys-Bag/release/3961419\n",
        "http://www.discogs.com/Billy-Preston-A-Whole-New-Thing/master/106217\n",
        "http://www.discogs.com/Billy-Preston-Behold/master/276272\n",
        "http://www.discogs.com/Billy-Preston-Late-At-Night/master/106235\n",
        "http://www.discogs.com/Billy-Preston-Universal-Love/master/607014\n",
        "http://www.discogs.com/Billy-Preston-The-Way-I-Am/master/190428\n",
        "http://www.discogs.com/Billy-Preston-Pressin-On/master/371298\n"
       ]
      }
     ],
     "prompt_number": 21
    },
    {
     "cell_type": "code",
     "collapsed": false,
     "input": [],
     "language": "python",
     "metadata": {},
     "outputs": []
    }
   ],
   "metadata": {}
  }
 ]
}