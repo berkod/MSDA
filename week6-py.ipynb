{
 "metadata": {
  "name": "",
  "signature": "sha256:ed028dc4cf319b65b165966f070d6d3a91c33e14f13791ee638ef64a1b586802"
 },
 "nbformat": 3,
 "nbformat_minor": 0,
 "worksheets": [
  {
   "cells": [
    {
     "cell_type": "code",
     "collapsed": false,
     "input": [
      "import re\n",
      "pattern = '^(\\d+)\\s*(\\w+\\s?\\w*)\\s*\\|\\s*([WTL]\\s*\\d{1,2})\\s*\\|\\s*([WTL]\\s*\\d{1,2})\\s*\\|\\s*([WTL]\\s*\\d{1,2})'\n",
      "line = \"1Germany |W3|T4|W2\"\n",
      "matches = re.search(pattern, line)\n",
      "print(\"Rank: %s\\n\\nCountry: %s\\n\\nResults:\\n\\n%s\\n\\n%s\\n\\n%s\" % matches.groups())\n"
     ],
     "language": "python",
     "metadata": {},
     "outputs": [
      {
       "output_type": "stream",
       "stream": "stdout",
       "text": [
        "Rank: 1\n",
        "\n",
        "Country: Germany \n",
        "\n",
        "Results:\n",
        "\n",
        "W3\n",
        "\n",
        "T4\n",
        "\n",
        "W2\n"
       ]
      }
     ],
     "prompt_number": 3
    },
    {
     "cell_type": "code",
     "collapsed": false,
     "input": [
      "import re\n",
      "rounds = (\n",
      "'1 Germany  | W 3 | T 4 | W 2',\n",
      "'2 United States | W 4 | T 3 | L 1',\n",
      "'3 Portugal | L 1 | T 2 | W 4',\n",
      "'4 Ghana | L 2 | T 1 | L 3'\n",
      ")\n",
      "pattern = '^(\\d+)\\s*(\\w+\\s?\\w*)\\s*\\|\\s*([WTL]\\s*\\d{1,2})\\s*\\|\\s*([WTL]\\s*\\d{1,2})\\s*\\|\\s*([WTL]\\s*\\d{1,2})'\n",
      "for line in rounds:\n",
      "    matches = re.search(pattern, line)\n",
      "    print(\"Rank: %s\\n\\nCountry: %s\\n\\nResults:\\n\\n%s\\n\\n%s\\n\\n%s\\n\\n\\n\" % matches.groups())\n"
     ],
     "language": "python",
     "metadata": {},
     "outputs": [
      {
       "output_type": "stream",
       "stream": "stdout",
       "text": [
        "Rank: 1\n",
        "\n",
        "Country: Germany \n",
        "\n",
        "Results:\n",
        "\n",
        "W 3\n",
        "\n",
        "T 4\n",
        "\n",
        "W 2\n",
        "\n",
        "\n",
        "\n",
        "Rank: 2\n",
        "\n",
        "Country: United States\n",
        "\n",
        "Results:\n",
        "\n",
        "W 4\n",
        "\n",
        "T 3\n",
        "\n",
        "L 1\n",
        "\n",
        "\n",
        "\n",
        "Rank: 3\n",
        "\n",
        "Country: Portugal \n",
        "\n",
        "Results:\n",
        "\n",
        "L 1\n",
        "\n",
        "T 2\n",
        "\n",
        "W 4\n",
        "\n",
        "\n",
        "\n",
        "Rank: 4\n",
        "\n",
        "Country: Ghana \n",
        "\n",
        "Results:\n",
        "\n",
        "L 2\n",
        "\n",
        "T 1\n",
        "\n",
        "L 3\n",
        "\n",
        "\n",
        "\n"
       ]
      }
     ],
     "prompt_number": 5
    },
    {
     "cell_type": "code",
     "collapsed": false,
     "input": [],
     "language": "python",
     "metadata": {},
     "outputs": []
    }
   ],
   "metadata": {}
  }
 ]
}